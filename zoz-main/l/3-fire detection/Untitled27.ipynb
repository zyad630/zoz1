{
 "cells": [
  {
   "cell_type": "code",
   "execution_count": null,
   "id": "eddb408f-0bc8-45de-b673-bb11eaae4f99",
   "metadata": {},
   "outputs": [],
   "source": [
    "import cvzone\n",
    "from ultralytics import YOLO\n",
    "import cv2\n",
    "import pygame\n",
    "import serial\n",
    "pygame.init()\n",
    "pygame.mixer.init()\n",
    "fire_sound = pygame.mixer.Sound(r\"C:\\Users\\ITC\\Downloads\\mixkit-alert-alarm-1005.wav\")\n",
    "cap = cv2.VideoCapture(1)\n",
    "model = YOLO(r\"Z:\\الاستعداد للجداره التكامليه\\3-fire detection\\fire.pt\")\n",
    "classnames = ['fire']\n",
    "while True:\n",
    "    ret,frame=cap.read()\n",
    "    frame=cv2.resize(frame, (640 ,480))\n",
    "    result = model(frame, stream=True)\n",
    "    for info in result :\n",
    "        boxes =info.boxes\n",
    "        for box in boxes:\n",
    "            confidence =box.conf[0]\n",
    "            confidance =math.ceil(confidance *100)\n",
    "            Class=int(box.cls[0])\n",
    "            if confidance >50:\n",
    "                x1,y1,x2,y2 = box.xyxy[0]\n",
    "                x1,y1,x2,y2 = int(x1),int(y1),int(x2),int(y2)\n",
    "                cv2.rectangle(frame, (x1,y1),(x2,y2),(0,0,255),5)\n",
    "                cvzone.putTextRect(frame,f'{calssnames[Class]} {confidence}%',[x1+8,y1+100],\n",
    "                                   scale=1.5,thickness=2)\n",
    "        cv2.imshow('fire',frame)\n",
    "        if cv2.waitKey(1)==ord('q'):\n",
    "            break\n",
    "cap.release()\n",
    "cv2.destroyAllWindows()"
   ]
  },
  {
   "cell_type": "code",
   "execution_count": null,
   "id": "236b57ae-da5d-4e46-afb8-e21d4f71da6b",
   "metadata": {},
   "outputs": [],
   "source": []
  }
 ],
 "metadata": {
  "kernelspec": {
   "display_name": "Python 3 (ipykernel)",
   "language": "python",
   "name": "python3"
  },
  "language_info": {
   "codemirror_mode": {
    "name": "ipython",
    "version": 3
   },
   "file_extension": ".py",
   "mimetype": "text/x-python",
   "name": "python",
   "nbconvert_exporter": "python",
   "pygments_lexer": "ipython3",
   "version": "3.11.7"
  }
 },
 "nbformat": 4,
 "nbformat_minor": 5
}
